{
  "nbformat": 4,
  "nbformat_minor": 0,
  "metadata": {
    "colab": {
      "provenance": []
    },
    "kernelspec": {
      "name": "python3",
      "display_name": "Python 3"
    },
    "language_info": {
      "name": "python"
    }
  },
  "cells": [
    {
      "cell_type": "markdown",
      "source": [
        "# Machine Learning for Business - Individual Coursework\n",
        "## Market Research Assistant"
      ],
      "metadata": {
        "id": "1lMhwS1h41Cs"
      }
    },
    {
      "cell_type": "markdown",
      "source": [
        "#### Part 3: IPYNB File\n",
        "Candidate ID: MPZY3"
      ],
      "metadata": {
        "id": "nnqVU-Xw4rna"
      }
    },
    {
      "cell_type": "markdown",
      "source": [
        "### Installing Libraries and Setting Up"
      ],
      "metadata": {
        "id": "XCD7qdyq4-gg"
      }
    },
    {
      "cell_type": "code",
      "execution_count": null,
      "metadata": {
        "colab": {
          "base_uri": "https://localhost:8080/"
        },
        "id": "0e7uDBvf_t1G",
        "outputId": "7c980fac-a9a5-4e7e-8905-2aad53426fd8"
      },
      "outputs": [
        {
          "output_type": "stream",
          "name": "stdout",
          "text": [
            "\u001b[?25l   \u001b[90m━━━━━━━━━━━━━━━━━━━━━━━━━━━━━━━━━━━━━━━━\u001b[0m \u001b[32m0.0/1.4 MB\u001b[0m \u001b[31m?\u001b[0m eta \u001b[36m-:--:--\u001b[0m\r\u001b[2K   \u001b[91m━━━━━━━━━━━━━━━━━━━━━━━━━━━━━━━━━━━━━━━\u001b[0m\u001b[91m╸\u001b[0m \u001b[32m1.4/1.4 MB\u001b[0m \u001b[31m29.2 MB/s\u001b[0m eta \u001b[36m0:00:01\u001b[0m\r\u001b[2K   \u001b[91m━━━━━━━━━━━━━━━━━━━━━━━━━━━━━━━━━━━━━━━\u001b[0m\u001b[91m╸\u001b[0m \u001b[32m1.4/1.4 MB\u001b[0m \u001b[31m29.2 MB/s\u001b[0m eta \u001b[36m0:00:01\u001b[0m\r\u001b[2K   \u001b[90m━━━━━━━━━━━━━━━━━━━━━━━━━━━━━━━━━━━━━━━━\u001b[0m \u001b[32m1.4/1.4 MB\u001b[0m \u001b[31m14.4 MB/s\u001b[0m eta \u001b[36m0:00:00\u001b[0m\n",
            "\u001b[?25h\u001b[31mERROR: pip's dependency resolver does not currently take into account all the packages that are installed. This behaviour is the source of the following dependency conflicts.\n",
            "google-generativeai 0.8.4 requires google-ai-generativelanguage==0.6.15, but you have google-ai-generativelanguage 0.6.16 which is incompatible.\u001b[0m\u001b[31m\n",
            "\u001b[2K   \u001b[90m━━━━━━━━━━━━━━━━━━━━━━━━━━━━━━━━━━━━━━━━\u001b[0m \u001b[32m2.5/2.5 MB\u001b[0m \u001b[31m41.1 MB/s\u001b[0m eta \u001b[36m0:00:00\u001b[0m\n",
            "\u001b[2K   \u001b[90m━━━━━━━━━━━━━━━━━━━━━━━━━━━━━━━━━━━━━━━━\u001b[0m \u001b[32m50.9/50.9 kB\u001b[0m \u001b[31m3.2 MB/s\u001b[0m eta \u001b[36m0:00:00\u001b[0m\n",
            "\u001b[?25h  Preparing metadata (setup.py) ... \u001b[?25l\u001b[?25hdone\n",
            "  Building wheel for wikipedia (setup.py) ... \u001b[?25l\u001b[?25hdone\n"
          ]
        }
      ],
      "source": [
        "!pip install -q langchain-google-genai\n",
        "!pip install -q langchain-community\n",
        "!pip install -q wikipedia"
      ]
    },
    {
      "cell_type": "code",
      "source": [
        "# Import libraries\n",
        "import json\n",
        "import pandas as pd\n",
        "import requests\n",
        "import time\n",
        "import wikipedia\n",
        "import openai\n",
        "from langchain_core.prompts import ChatPromptTemplate\n",
        "from langchain.retrievers import WikipediaRetriever\n",
        "from langchain_google_genai import ChatGoogleGenerativeAI"
      ],
      "metadata": {
        "id": "3JDJ00pC_-rW"
      },
      "execution_count": null,
      "outputs": []
    },
    {
      "cell_type": "code",
      "source": [
        "wikipedia.set_lang(\"en\")  # Ensures results are in English\n",
        "wikipedia.__dict__[\"BeautifulSoup\"] = lambda html: wikipedia.BeautifulSoup(html, features=\"lxml\")"
      ],
      "metadata": {
        "id": "KxGZX6-JAIGR"
      },
      "execution_count": null,
      "outputs": []
    },
    {
      "cell_type": "code",
      "source": [
        "# Import API keys\n",
        "from google.colab import userdata\n",
        "import os\n",
        "\n",
        "os.environ['GOOGLE_API_KEY'] = userdata.get('mlb1') # Google Gemini's API key for generating reports\n",
        "os.environ['OPENAI_API_KEY'] = userdata.get('openai') # OpenAI's API key for evaluating reports"
      ],
      "metadata": {
        "id": "H0L88-jgAMTf"
      },
      "execution_count": null,
      "outputs": []
    },
    {
      "cell_type": "markdown",
      "source": [
        "### Model Setup"
      ],
      "metadata": {
        "id": "xEoYnxlH5SFt"
      }
    },
    {
      "cell_type": "code",
      "source": [
        "# Selecting LLM for the assistant\n",
        "model = \"gemini-1.5-flash\"\n",
        "max_output_tokens = 2000"
      ],
      "metadata": {
        "id": "KgWjeg0sAQbe"
      },
      "execution_count": null,
      "outputs": []
    },
    {
      "cell_type": "code",
      "source": [
        "# Defining the LLM\n",
        "llm = ChatGoogleGenerativeAI(\n",
        "    temperature=0.4,\n",
        "    model=model,\n",
        "    max_output_tokens=max_output_tokens,\n",
        ")"
      ],
      "metadata": {
        "id": "x2CPIk3UATUW"
      },
      "execution_count": null,
      "outputs": []
    },
    {
      "cell_type": "code",
      "source": [
        "# Setting model configuration values\n",
        "class Config:\n",
        "    WIKI_MAX_CHARS = 10000\n",
        "    LLM_TEMP = 0.4\n",
        "    RETRIES = 3"
      ],
      "metadata": {
        "id": "fAi3S89TAU5j"
      },
      "execution_count": null,
      "outputs": []
    },
    {
      "cell_type": "markdown",
      "source": [
        "### Defining Functions"
      ],
      "metadata": {
        "id": "gyT4OAHG5gUP"
      }
    },
    {
      "cell_type": "markdown",
      "source": [
        "#### Extract Information from Wikipedia"
      ],
      "metadata": {
        "id": "ipzXnzJ05Zpg"
      }
    },
    {
      "cell_type": "code",
      "source": [
        "def fetch_wikipedia_data(industry: str):\n",
        "    \"\"\"Retrieve relevant Wikipedia content while filtering out irrelevant pages.\"\"\"\n",
        "    try:\n",
        "\n",
        "        # Step 1: Try finding a direct Wikipedia page for \"{industry} industry\"\n",
        "        try:\n",
        "            main_page = wikipedia.page(f\"{industry} industry\", auto_suggest=True)\n",
        "            return {\n",
        "                \"content\": main_page.content[:Config.WIKI_MAX_CHARS],\n",
        "                \"url\": [main_page.url],\n",
        "                \"page_title\": main_page.title\n",
        "            }\n",
        "        except (wikipedia.exceptions.PageError, wikipedia.exceptions.DisambiguationError):\n",
        "            print(f\"No direct industry page for: {industry}. Trying category search...\")\n",
        "\n",
        "        # Step 2: Check if a Wikipedia category exists for \"{industry} industry\"\n",
        "        category_search_term = f\"Category:{industry} industry\"\n",
        "        category_url = f\"https://en.wikipedia.org/wiki/{category_search_term.replace(' ', '_')}\"\n",
        "        category_response = requests.get(category_url)\n",
        "\n",
        "        if category_response.status_code == 200:\n",
        "            return fetch_wikipedia_category_pages(category_search_term)\n",
        "\n",
        "        # Step 3: Use Wikipedia search to find related pages (but filter irrelevant ones)\n",
        "        print(f\"No industry category found. Using filtered Wikipedia search...\")\n",
        "        return fetch_filtered_wikipedia_page(industry)\n",
        "\n",
        "    except Exception as e:\n",
        "        return None"
      ],
      "metadata": {
        "id": "E2XVTVCKAbeL"
      },
      "execution_count": null,
      "outputs": []
    },
    {
      "cell_type": "code",
      "source": [
        "def fetch_wikipedia_category_pages(category: str):\n",
        "    \"\"\"Retrieve Wikipedia pages from an industry category.\"\"\"\n",
        "    try:\n",
        "\n",
        "        # Wikipedia API request URL\n",
        "        api_url = f\"https://en.wikipedia.org/w/api.php?action=query&format=json&list=categorymembers&cmtitle={category.replace(' ', '_')}&cmlimit=5\"\n",
        "        response = requests.get(api_url).json()\n",
        "\n",
        "        # Retrieve list of pages under the relevant Wikipedia category\n",
        "        pages = response.get(\"query\", {}).get(\"categorymembers\", [])\n",
        "\n",
        "        # If pages are not found\n",
        "        if not pages:\n",
        "            print(f\"[WARNING] No pages found in category: {category}\")\n",
        "            return None\n",
        "\n",
        "        relevant_docs = []\n",
        "        urls = []\n",
        "\n",
        "        for page in pages:\n",
        "            try:\n",
        "                page_data = wikipedia.page(page[\"title\"], auto_suggest=False)\n",
        "\n",
        "                # Filter pages that are too generic or unrelated\n",
        "                if industry.lower() not in page_data.title.lower() and \"industry\" not in page_data.title.lower():\n",
        "                    print(f\"[WARNING] Skipping unrelated page: {page_data.title}\")\n",
        "                    continue\n",
        "\n",
        "                # Storing data\n",
        "                relevant_docs.append(page_data.content[:Config.WIKI_MAX_CHARS])\n",
        "                urls.append(page_data.url)\n",
        "\n",
        "            # Handling errors\n",
        "            except wikipedia.exceptions.PageError:\n",
        "                print(f\"[WARNING] Page not found: {page['title']}\")\n",
        "                continue\n",
        "            except wikipedia.exceptions.DisambiguationError:\n",
        "                print(f\"[WARNING] Disambiguation page detected: {page['title']}. Skipping...\")\n",
        "                continue\n",
        "\n",
        "        if not relevant_docs:\n",
        "            return None\n",
        "\n",
        "        return {\n",
        "            \"content\": \"\\n\\n\".join(relevant_docs),\n",
        "            \"url\": urls,\n",
        "            \"page_title\": category\n",
        "        }\n",
        "\n",
        "    except Exception as e:\n",
        "        return None\n"
      ],
      "metadata": {
        "id": "-MSdyP5tAl7s"
      },
      "execution_count": null,
      "outputs": []
    },
    {
      "cell_type": "code",
      "source": [
        "def fetch_filtered_wikipedia_page(topic: str):\n",
        "    \"\"\"Fallback method: Fetches a Wikipedia page while filtering out irrelevant results.\"\"\"\n",
        "    try:\n",
        "        # Search Wikipedia for the topic and get a maximum of 2 results\n",
        "        search_results = wikipedia.search(topic, results=2)\n",
        "\n",
        "        for title in search_results:\n",
        "            try:\n",
        "                page = wikipedia.page(title, auto_suggest=False)\n",
        "\n",
        "                # Filtering Logic: Ensure the page title is relevant to the industry\n",
        "                if topic.lower() not in page.title.lower() and \"industry\" not in page.title.lower():\n",
        "                    print(f\"[WARNING] Skipping irrelevant page: {page.title}\")\n",
        "                    continue\n",
        "\n",
        "                # Extract Wikipedia page content\n",
        "                content = page.content[:Config.WIKI_MAX_CHARS]  # Truncate to avoid overload\n",
        "                url = page.url\n",
        "\n",
        "                return {\n",
        "                    \"content\": content,\n",
        "                    \"url\": [url],\n",
        "                    \"page_title\": page.title\n",
        "                }\n",
        "\n",
        "            # Handling errors\n",
        "            except wikipedia.exceptions.PageError:\n",
        "                continue\n",
        "            except wikipedia.exceptions.DisambiguationError:\n",
        "                continue\n",
        "\n",
        "        return None\n",
        "\n",
        "    except Exception as e:\n",
        "        return None"
      ],
      "metadata": {
        "id": "MxeRlN_xApjc"
      },
      "execution_count": null,
      "outputs": []
    },
    {
      "cell_type": "markdown",
      "source": [
        "#### Define LLM System Prompt"
      ],
      "metadata": {
        "id": "OUHe-fYR65T3"
      }
    },
    {
      "cell_type": "code",
      "source": [
        "def create_llm_prompt(industry: str, wiki_content: str):\n",
        "    \"\"\"\n",
        "    Returns a prompt requesting a ~600-word market research report in JSON format.\n",
        "    \"\"\"\n",
        "    return f\"\"\"\n",
        "      You are a market research assistant tasked with writing a comprehensive report (approximately 600 words total) about the {industry} industry.\n",
        "      Read the Wikipedia page given below to understand the industry.\n",
        "\n",
        "      Your report MUST be approximately 600 words in total. Do not stop generating early. Use the Wikipedia content below as background.\n",
        "\n",
        "      Use the Wikipedia content below as the **ONLY** source of information.\n",
        "\n",
        "      You MUST return only JSON, with no additional text or explanations and must have exactly these fields:\n",
        "      ```json\n",
        "      {{\n",
        "        \"industry\": \"Industry name\",\n",
        "        \"industry_overview\": \"A summary (120-150 words).\",\n",
        "        \"competitive_landscape\": {{\n",
        "          \"competition_intensity\": \"Low, Medium, or High. Additionally, give a short explanation (50-60 words)\",\n",
        "          \"key_players\": [\n",
        "            \"List 3 to 5 dominant companies/key players/manufacturers/organisations with brief explanations (60-70 words each).\",\n",
        "            \"If Wikipedia does not mention any companies, state: 'Insufficient data available.' DO NOT GUESS OR INFER COMPANIES.\"\n",
        "            ],\n",
        "          \"barriers_to_entry\": \"List 3 to 5 major obstacles for new companies entering the market (50-60 words each).\"\n",
        "        }},\n",
        "        \"emerging_technologies\": [\n",
        "          \"List of 3 to 5 key technologies shaping the industry (100-120 words total).\"\n",
        "        ],\n",
        "        \"consumer_insights\": {{\n",
        "          \"target_audience\": \"Main demographics of customers (70-80 words total).\",\n",
        "          \"buying_trends\": \"Consumer behaviours shaping the market (70-80 words total).\"\n",
        "        }},\n",
        "        \"risk_analysis\": {{\n",
        "          \"economic_risks\": \"Potential economic downturns and their impact (50-60 words).\",\n",
        "          \"technological_risks\": \"Challenges from rapid technological changes (50-60 words).\",\n",
        "          \"geopolitical_risks\": \"Trade restrictions, policy shifts, or global instability (50-60 words).\"\n",
        "        }},\n",
        "        \"high_growth_areas\": \"Segments of the industry expected to grow rapidly (80-90 words).\",\n",
        "        \"wikipedia_sources\": \"List of URLs referencing Wikipedia pages used.\"\n",
        "      }}\n",
        "      ```\n",
        "\n",
        "      Requirements:\n",
        "      1. Your output must be close to **600 words**.\n",
        "      2. If the output is shorter, expand your explanations. Do NOT shorten responses unnecessarily.\n",
        "      3. If your response is too long, reduce explanation length per section.\n",
        "      4. DO NOT exceed 600 words.\n",
        "      5. The 'wikipedia_sources' field is an array of URL strings referencing the pages used.\n",
        "      6. Do not include any extra keys beyond the specified JSON fields.\n",
        "      7. Do NOT create fictional companies, facts or trends.\n",
        "      8. Verify that the Wikipedia page is actually about the mentioned industry and ensure all responses are accurate and directly supported by Wikipedia data.\n",
        "\n",
        "      Wikipedia content:\n",
        "      {wiki_content}\n",
        "      \"\"\""
      ],
      "metadata": {
        "id": "PIRFgoE2Arjx"
      },
      "execution_count": null,
      "outputs": []
    },
    {
      "cell_type": "markdown",
      "source": [
        "#### Generate Industry Report"
      ],
      "metadata": {
        "id": "KuFaFVyJ7NAQ"
      }
    },
    {
      "cell_type": "code",
      "source": [
        "def generate_industry_report(industry: str):\n",
        "    \"\"\"Generates a market research report and evaluates its relevance before displaying it.\"\"\"\n",
        "\n",
        "    # Fetch Wikipedia data\n",
        "    wiki_data = fetch_wikipedia_data(industry)\n",
        "    if not wiki_data:\n",
        "        return None\n",
        "\n",
        "    # Initialise prompt\n",
        "    prompt = create_llm_prompt(industry, wiki_data[\"content\"])\n",
        "\n",
        "    # Run LLM\n",
        "    for attempt in range(Config.RETRIES):\n",
        "        try:\n",
        "            # Get a response from the LLM\n",
        "            response = llm.invoke(prompt)\n",
        "            if not response or not response.content:\n",
        "                continue\n",
        "\n",
        "            report = response.content.strip()\n",
        "\n",
        "            # Ensure Wikipedia sources are explicitly added BEFORE printing\n",
        "            report = json.loads(report.replace(\"```json\", \"\").replace(\"```\", \"\").strip())\n",
        "\n",
        "            # Ensure Wikipedia sources are correctly included in the JSON\n",
        "            report[\"wikipedia_sources\"] = wiki_data[\"url\"]\n",
        "\n",
        "            # Convert back to JSON with proper formatting\n",
        "            report = \"```json\\n\" + json.dumps(report, indent=2) + \"\\n```\"\n",
        "\n",
        "            # Evaluating relevance of the model\n",
        "            evaluation = evaluate_response(industry, report) # Chaining the evaluation function\n",
        "            if evaluation.lower() in [\"yes\", \"ambiguous\"]: # Only printing relevant reports\n",
        "                print(report)\n",
        "            else:\n",
        "                print(f\"No relevant information found for the {industry} industry.\")\n",
        "            break\n",
        "        except Exception as e:\n",
        "            print(f\"[ERROR] Failed to generate report for {industry}: {str(e)}\")\n",
        "\n",
        "    return None"
      ],
      "metadata": {
        "id": "8USJF3EAA3lA"
      },
      "execution_count": null,
      "outputs": []
    },
    {
      "cell_type": "markdown",
      "source": [
        "#### Evaluate Report Quality and Relevance"
      ],
      "metadata": {
        "id": "p7Gfp8m47Qkn"
      }
    },
    {
      "cell_type": "code",
      "source": [
        "def evaluate_response(industry: str, report: dict):\n",
        "    \"\"\"Evaluates the generated report for relevance.\"\"\"\n",
        "    system_prompt_eval = f\"\"\"\n",
        "      Critically evaluate the provided response to the customer's query regarding market research.\n",
        "      Assess the following:\n",
        "      - Does the response provide a factually correct answer based on the query and the relevant Wikipedia page?\n",
        "      - Is the response actually from a relevant Wikipedia page and does it include specific information about {industry}?\n",
        "      - Does the response contain sufficient depth and detail?\n",
        "      - Is the response structured in a way that makes sense for business professionals?\n",
        "      - Is the AI hallucinating and generating information that is not true?\n",
        "\n",
        "      **IMPORTANT RULES**\n",
        "      If the response is appropriate, return \"Yes\".\n",
        "      Focus on whether the content in the report is actually related to the {industry} industry. If it is not relevant, return \"No\".\n",
        "      If the response is incorrect, lacks details, or is too generic return \"No\" instead of \"Yes\".\n",
        "      If the response is uncertain or lacks sufficient information, return \"Ambiguous\".\n",
        "\n",
        "      Respond only with \"Yes\", \"No\", or \"Ambiguous\" with no extra text.\n",
        "      \"\"\"\n",
        "\n",
        "    prompt = f\"{system_prompt_eval}\\n\\nGenerated Market Research Report:\\n{json.dumps(report, indent=2)}\"\n",
        "\n",
        "    # Initialise OpenAI API key\n",
        "    client = openai.OpenAI(api_key=os.getenv(\"OPENAI_API_KEY\"))\n",
        "\n",
        "    # Generate a response\n",
        "    response = client.chat.completions.create(\n",
        "            model=\"gpt-4o-mini\",  # Using a different LLM to verify the report generated\n",
        "            messages=[\n",
        "                {\"role\": \"system\", \"content\": system_prompt_eval},\n",
        "                {\"role\": \"user\", \"content\": prompt}\n",
        "            ],\n",
        "            max_tokens=50  # Keeping response short as we only need \"Appropriate\", \"Not Appropriate\", or \"Ambiguous\"\n",
        "        )\n",
        "\n",
        "    evaluation_result = response.choices[0].message.content.strip()\n",
        "    return evaluation_result"
      ],
      "metadata": {
        "id": "agjBtvVeEf17"
      },
      "execution_count": null,
      "outputs": []
    },
    {
      "cell_type": "markdown",
      "source": [
        "### Generating Reports"
      ],
      "metadata": {
        "id": "Y2OPCkbD7V-x"
      }
    },
    {
      "cell_type": "code",
      "source": [
        "generate_industry_report(\"Real Estate on Jupiter\") # Testing on a fake industry"
      ],
      "metadata": {
        "colab": {
          "base_uri": "https://localhost:8080/"
        },
        "id": "sX1gJ6JzB1Y6",
        "outputId": "ce24019b-c58d-4267-be19-32622fd41aef"
      },
      "execution_count": null,
      "outputs": [
        {
          "output_type": "stream",
          "name": "stdout",
          "text": [
            "No relevant information found for the Real Estate on Jupiter industry.\n"
          ]
        }
      ]
    },
    {
      "cell_type": "code",
      "source": [
        "generate_industry_report(\"Financial Services\")"
      ],
      "metadata": {
        "colab": {
          "base_uri": "https://localhost:8080/"
        },
        "id": "3Z54Grax45yT",
        "outputId": "ee7e9971-b4bb-46db-9ec6-d40eea69b651"
      },
      "execution_count": null,
      "outputs": [
        {
          "output_type": "stream",
          "name": "stdout",
          "text": [
            "```json\n",
            "{\n",
            "  \"industry\": \"Financial Services\",\n",
            "  \"industry_overview\": \"Financial services encompass a wide array of economic services related to finance, provided by various institutions.  These services include managing finances, offering consumer finance options, and facilitating transactions at a macro level impacting global politics and economics.  The industry's influence is significant, leading to ongoing discussions about its power and scale, particularly in developed economies.  Key players include commercial banks, investment banks, insurance companies, and various other specialized firms offering products like credit cards, mortgages, and investment management services. The industry's structure and offerings have evolved, particularly due to legislation like the Gramm-Leach-Bliley Act, allowing mergers and diversification of services within holding companies.\",\n",
            "  \"competitive_landscape\": {\n",
            "    \"competition_intensity\": \"High. The financial services industry is characterized by intense competition due to the numerous players, global reach, and the constant need for innovation to attract and retain customers.\",\n",
            "    \"key_players\": [\n",
            "      \"Visa Inc.: A global payments technology company facilitating electronic funds transfers worldwide. They operate a vast network connecting financial institutions, merchants, and consumers.\",\n",
            "      \"Mastercard: Another major player in the global payments industry, offering similar services to Visa, including credit, debit, and prepaid card processing.\",\n",
            "      \"American Express:  Provides a range of financial services, including credit cards, travel services, and merchant processing, focusing on a premium customer base.\",\n",
            "      \"Insufficient data available.\"\n",
            "    ],\n",
            "    \"barriers_to_entry\": [\n",
            "      \"High capital requirements:  Starting a financial institution necessitates substantial capital to meet regulatory requirements and operational needs.\",\n",
            "      \"Stringent regulations and licensing:  The industry is heavily regulated, requiring extensive compliance procedures and licenses to operate legally.\",\n",
            "      \"Building trust and reputation:  Establishing credibility and trust with customers is crucial, requiring a proven track record and strong brand recognition.\",\n",
            "      \"Technological infrastructure:  Developing and maintaining robust technological infrastructure for secure transactions and data management is essential.\",\n",
            "      \"Experienced personnel:  Attracting and retaining skilled professionals with expertise in finance, technology, and risk management is vital.\"\n",
            "    ]\n",
            "  },\n",
            "  \"emerging_technologies\": [\n",
            "    \"Fintech innovations:  Technological advancements are transforming the industry, with innovations like mobile banking, blockchain technology, and AI-driven financial advice reshaping service delivery and customer interactions.\",\n",
            "    \"Big data analytics:  The use of big data analytics allows for better risk assessment, personalized financial products, and improved fraud detection.\",\n",
            "    \"Cloud computing:  Cloud-based solutions enhance efficiency, scalability, and security in managing financial data and operations.\"\n",
            "  ],\n",
            "  \"consumer_insights\": {\n",
            "    \"target_audience\": \"The target audience is broad, encompassing individuals, businesses, and governments.  Individuals utilize services for personal banking, investments, and insurance. Businesses rely on financial institutions for loans, investment banking, and treasury management. Governments utilize services for debt management and economic policy implementation.\",\n",
            "    \"buying_trends\": \"Consumers increasingly favor digital channels for banking and financial transactions.  Demand for personalized financial advice and investment solutions is growing.  Concerns about data security and privacy are influencing consumer choices.\"\n",
            "  },\n",
            "  \"risk_analysis\": {\n",
            "    \"economic_risks\": \"Economic downturns can significantly impact the financial services industry, leading to increased loan defaults, reduced investment activity, and market volatility.\",\n",
            "    \"technological_risks\": \"Rapid technological changes pose challenges, requiring continuous adaptation and investment in new technologies to remain competitive and prevent disruptions.\",\n",
            "    \"geopolitical_risks\": \"Geopolitical instability, trade wars, and regulatory changes can create uncertainty and affect market conditions, impacting investment decisions and cross-border transactions.\"\n",
            "  },\n",
            "  \"high_growth_areas\": \"Fintech, particularly mobile banking and digital payments, is experiencing rapid growth.  Demand for wealth management and investment advisory services is also increasing, driven by aging populations and growing affluence.\",\n",
            "  \"wikipedia_sources\": [\n",
            "    \"https://en.wikipedia.org/wiki/Financial_services\"\n",
            "  ]\n",
            "}\n",
            "```\n"
          ]
        }
      ]
    },
    {
      "cell_type": "code",
      "source": [
        "generate_industry_report(\"Music Industry\")"
      ],
      "metadata": {
        "colab": {
          "base_uri": "https://localhost:8080/"
        },
        "id": "B07ktrsLCA1V",
        "outputId": "99dbcef6-0a37-4358-90d3-ce37d92698cd"
      },
      "execution_count": null,
      "outputs": [
        {
          "output_type": "stream",
          "name": "stdout",
          "text": [
            "```json\n",
            "{\n",
            "  \"industry\": \"Music Industry\",\n",
            "  \"industry_overview\": \"The music industry encompasses individuals and organizations involved in creating, producing, distributing, and performing music.  This includes songwriters, composers, musicians, singers, record labels, publishers, recording studios, music producers, retailers, digital music stores, concert promoters, and various support professionals like managers, lawyers, and agents.  The industry's structure involves creating compositions, recordings, and media (physical and digital), each with its own ownership and revenue streams.  The industry has undergone significant transformation with the rise of digital distribution, impacting sales and revenue models.\",\n",
            "  \"competitive_landscape\": {\n",
            "    \"competition_intensity\": \"High. The industry is dominated by a few major players, but faces intense competition among independent labels and digital platforms for market share and artist acquisition.\",\n",
            "    \"key_players\": [\n",
            "      \"Universal Music Group: A French-owned major label controlling a significant portion of the recorded music market, involved in artist signings, production, and distribution.\",\n",
            "      \"Sony Music Entertainment: A Japanese-owned major label with a large market share, similar to Universal in its operations and scope.\",\n",
            "      \"Warner Music Group: A US-owned major label, competing with Universal and Sony for artists and market share in the recorded music sector.\",\n",
            "      \"Live Nation: The largest promoter and music venue owner, controlling a significant portion of the live music market through concert promotion and venue management.\",\n",
            "      \"Apple Inc.:  Operates the iTunes Store, a major digital music retailer, influencing the digital distribution landscape and significantly impacting sales.\"\n",
            "    ],\n",
            "    \"barriers_to_entry\": [\n",
            "      \"High capital investment: Establishing a record label or concert promotion company requires substantial financial resources for artist development, marketing, and infrastructure.\",\n",
            "      \"Strong distribution networks: Access to established distribution channels (physical and digital) is crucial for reaching consumers and is often controlled by major players.\",\n",
            "      \"Talent acquisition and artist development: Securing and developing successful artists is a competitive and challenging process requiring significant investment and expertise.\",\n",
            "      \"Navigating complex legal and contractual frameworks: Understanding and complying with copyright laws, artist contracts, and other legal aspects is essential for success.\",\n",
            "      \"Marketing and promotion expertise: Effective marketing and promotion are critical for reaching target audiences, requiring specialized skills and resources.\"\n",
            "    ]\n",
            "  },\n",
            "  \"emerging_technologies\": [\n",
            "    \"Digital distribution: The internet and digital platforms have revolutionized music distribution, enabling direct-to-consumer sales and streaming services.\",\n",
            "    \"Streaming services: Platforms like Spotify and Apple Music have become dominant forces, changing how consumers access and pay for music, impacting revenue models.\",\n",
            "    \"Home studios: Advancements in digital recording technology allow artists and producers to create high-quality recordings without traditional recording studios, impacting production costs.\",\n",
            "    \"Artificial intelligence: AI is being used in music creation, composition assistance, and personalized music recommendations, impacting creative processes and consumer experience.\",\n",
            "    \"Virtual and augmented reality: These technologies offer immersive concert experiences and interactive music applications, creating new opportunities for engagement.\"\n",
            "  ],\n",
            "  \"consumer_insights\": {\n",
            "    \"target_audience\": \"The music industry's target audience is broad, encompassing diverse age groups, socioeconomic backgrounds, and musical preferences.  However, specific demographics are targeted by different genres and platforms.  Streaming services have broadened access, attracting a wider, younger audience.\",\n",
            "    \"buying_trends\": \"Streaming subscriptions have become the dominant method of music consumption, replacing physical and digital downloads.  Consumers increasingly value convenience and access to vast music libraries through subscription services.  Live music attendance remains strong, indicating a continued demand for live performance experiences.\"\n",
            "  },\n",
            "  \"risk_analysis\": {\n",
            "    \"economic_risks\": \"Economic downturns can reduce consumer spending on music, impacting sales of recordings and tickets.  This can particularly affect independent artists and smaller companies with limited financial reserves.\",\n",
            "    \"technological_risks\": \"Rapid technological advancements can quickly render existing technologies obsolete, requiring continuous adaptation and investment in new platforms and formats.  Copyright infringement and piracy remain significant challenges.\",\n",
            "    \"geopolitical_risks\": \"International trade restrictions, policy changes affecting intellectual property rights, and global instability can disrupt the industry's supply chains and international collaborations.\"\n",
            "  },\n",
            "  \"high_growth_areas\": \"Streaming services continue to expand their user bases and revenue streams.  The live music market demonstrates consistent growth, driven by increasing demand for live experiences.  New technologies like virtual and augmented reality present opportunities for innovative music experiences and revenue generation.\",\n",
            "  \"wikipedia_sources\": [\n",
            "    \"https://en.wikipedia.org/wiki/Music_industry\"\n",
            "  ]\n",
            "}\n",
            "```\n"
          ]
        }
      ]
    },
    {
      "cell_type": "code",
      "source": [
        "generate_industry_report(\"Aerospace Industry\")"
      ],
      "metadata": {
        "colab": {
          "base_uri": "https://localhost:8080/"
        },
        "id": "YOtNalG2z87v",
        "outputId": "94a2b6fd-1a69-46c5-a820-707769ae0d54"
      },
      "execution_count": null,
      "outputs": [
        {
          "output_type": "stream",
          "name": "stdout",
          "text": [
            "```json\n",
            "{\n",
            "  \"industry\": \"Aerospace Industry (United Kingdom)\",\n",
            "  \"industry_overview\": \"The UK aerospace industry is the second-largest globally and the largest in Europe by turnover, holding a 17% global market share in 2019.  Employing 116,000 people in 2020, it boasts a rich history of innovation, responsible for pioneering advancements like the first enclosed-cabin aircraft and the first supersonic commercial jetliner.  The industry's success is driven by a blend of domestic and foreign companies,  a strong government partnership, and a focus on both crewed and unmanned aircraft technologies.  The sector's future hinges on adapting to a competitive global landscape and embracing emerging technologies.\",\n",
            "  \"competitive_landscape\": {\n",
            "    \"competition_intensity\": \"High. The global aerospace market is intensely competitive, with established players vying for contracts and market share, requiring significant investment and technological expertise.\",\n",
            "    \"key_players\": [\n",
            "      \"BAE Systems: A leading global defense contractor with substantial aerospace operations, contributing significantly to both military and civilian aircraft programs. Their involvement spans design, manufacturing, and maintenance.\",\n",
            "      \"Rolls-Royce: A world leader in aero engine manufacturing, providing powerplants for numerous commercial and military aircraft.  Their expertise in engine technology is crucial to the industry's success.\",\n",
            "      \"Airbus: Through its Airbus UK subsidiary, Airbus plays a major role in the UK aerospace landscape, contributing to the design, manufacture, and assembly of various aircraft models.\",\n",
            "      \"Boeing:  Boeing's UK subsidiary participates in the design, manufacturing, and support of its aircraft, demonstrating a significant presence within the British aerospace ecosystem.\",\n",
            "      \"Other notable companies include: Britten-Norman, GKN, Hybrid Air Vehicles, Meggitt PLC, QinetiQ, Senior plc, MBDA UK, Ultra Electronics, Lockheed Martin (through Lockheed Martin UK), GE Aviation (through GE Aviation Systems), Safran (through Safran Landing Systems), Thales Group (through Thales UK), Leonardo (through Leonardo UK), and Spirit AeroSystems.\"\n",
            "    ],\n",
            "    \"barriers_to_entry\": [\n",
            "      \"High capital investment: Establishing an aerospace company requires substantial upfront investment in research, development, manufacturing facilities, and skilled labor.\",\n",
            "      \"Technological expertise:  Advanced engineering and technological capabilities are essential, demanding significant R&D and skilled personnel.\",\n",
            "      \"Regulatory compliance:  Stringent safety and regulatory standards necessitate substantial compliance efforts, adding to the cost and complexity of entry.\",\n",
            "      \"Supply chain integration:  Establishing a reliable and efficient supply chain is crucial, requiring strong relationships with numerous suppliers.\",\n",
            "      \"Global competition:  The industry faces intense competition from established players with extensive resources and market presence.\"\n",
            "    ]\n",
            "  },\n",
            "  \"emerging_technologies\": [\n",
            "    \"Unmanned Aerial Vehicles (UAVs): The UK industry is actively involved in the development and production of UAVs for various applications, showcasing a growing segment within the sector.\",\n",
            "    \"Fly-by-wire systems:  Digital fly-by-wire technology continues to advance, enhancing aircraft control and efficiency.  The UK has a history of innovation in this area.\",\n",
            "    \"Advanced materials:  The use of lightweight and high-strength materials like composites is improving aircraft performance and fuel efficiency, driving innovation in materials science.\",\n",
            "    \"Sustainable aviation fuels:  The industry is exploring and developing sustainable aviation fuels to reduce the environmental impact of air travel, addressing growing concerns about carbon emissions.\",\n",
            "    \"Artificial intelligence (AI) and machine learning:  AI and machine learning are being integrated into various aspects of aircraft design, manufacturing, and operation, enhancing efficiency and safety.\"\n",
            "  ],\n",
            "  \"consumer_insights\": {\n",
            "    \"target_audience\": \"The aerospace industry's customers are diverse, including governments (for military aircraft), airlines (for commercial aircraft), and private individuals (for general aviation).  Government agencies and defense forces are major buyers of military aircraft, while airlines represent a significant customer base for commercial airliners.\",\n",
            "    \"buying_trends\": \"Cost-effectiveness and fuel efficiency are major factors influencing purchasing decisions for airlines and governments.  Safety and technological advancements are also key considerations, with a growing emphasis on sustainability and environmental impact.\"\n",
            "  },\n",
            "  \"risk_analysis\": {\n",
            "    \"economic_risks\": \"Economic downturns can significantly impact demand for both commercial and military aircraft, affecting production levels and potentially leading to job losses.\",\n",
            "    \"technological_risks\": \"Rapid technological advancements require continuous investment in R&D to remain competitive.  Failure to adapt to new technologies can render existing products obsolete.\",\n",
            "    \"geopolitical_risks\": \"International trade restrictions, political instability, and shifts in government policies can disrupt supply chains, impact project timelines, and affect market access.\"\n",
            "  },\n",
            "  \"high_growth_areas\": \"The UAV sector is experiencing rapid growth, driven by increasing demand for surveillance, delivery, and other applications.  Sustainable aviation fuels and advanced materials are also expected to see significant expansion as the industry focuses on environmental concerns and performance improvements.\",\n",
            "  \"wikipedia_sources\": [\n",
            "    \"https://en.wikipedia.org/wiki/Aerospace_industry_in_the_United_Kingdom\"\n",
            "  ]\n",
            "}\n",
            "```\n"
          ]
        }
      ]
    },
    {
      "cell_type": "code",
      "source": [
        "generate_industry_report(\"Automotive Industry\")"
      ],
      "metadata": {
        "colab": {
          "base_uri": "https://localhost:8080/"
        },
        "id": "NDbvWxs_EtMM",
        "outputId": "76d437fc-0a25-45d8-8dfc-cc05cdb8ff40"
      },
      "execution_count": null,
      "outputs": [
        {
          "output_type": "stream",
          "name": "stdout",
          "text": [
            "```json\n",
            "{\n",
            "  \"industry\": \"Automotive Industry (India)\",\n",
            "  \"industry_overview\": \"India's automotive industry is the world's fourth-largest by production and valuation (2022), and the third-largest market by sales (2023).  Valued at over US$100 billion (April 2022), it contributes significantly to India's GDP (7.1%) and exports (8%). While car ownership is increasing (60% of households own a vehicle), the rate of car ownership per capita remains relatively low (around 400 per 1,000 people). The industry's history is marked by initial reliance on imports, followed by the emergence of domestic manufacturers and a period of import substitution and government regulation.\",\n",
            "  \"competitive_landscape\": {\n",
            "    \"competition_intensity\": \"Medium. While a few dominant players exist, the market shows signs of increasing competition with new entrants and evolving consumer preferences.\",\n",
            "    \"key_players\": [\n",
            "      \"Hindustan Motors: Initially collaborated with Morris Motors, producing the Ambassador.  Later, it collaborated with General Motors for Bedford vehicles.  Its market share declined significantly over time.\",\n",
            "      \"Premier Automobiles Limited:  Collaborated with Chrysler (Dodge, Plymouth) and Fiat (1100D, later Premier Padmini).  Like Hindustan Motors, its market share faced significant challenges.\",\n",
            "      \"Mahindra & Mahindra: Started by assembling Jeep CJ-3A vehicles, Mahindra & Mahindra expanded into various segments, becoming a major player in utility vehicles and commercial vehicles.\",\n",
            "      \"Tata Motors: Founded by J.R.D. Tata, Tata Motors initially focused on commercial vehicles and later expanded into passenger cars, becoming a significant global player.\",\n",
            "      \"Maruti Suzuki: While not explicitly detailed in the provided text, its arrival in the 1980s is noted as causing a major upheaval in the industry, suggesting its significant impact.\"\n",
            "    ],\n",
            "    \"barriers_to_entry\": [\n",
            "      \"High capital investment: Establishing automotive manufacturing requires substantial upfront investment in facilities, equipment, and technology.\",\n",
            "      \"Stringent regulations: The Indian automotive industry has faced and continues to face government regulations impacting manufacturing and sales.\",\n",
            "      \"Established distribution networks:  Dominant players possess well-established distribution and after-sales service networks, making it difficult for new entrants to compete.\",\n",
            "      \"Technological advancements: Keeping up with rapid technological changes in areas like electric vehicles and autonomous driving requires significant R&D investment.\",\n",
            "      \"Competition from established brands:  The presence of large, well-established domestic and international players creates intense competition.\"\n",
            "    ]\n",
            "  },\n",
            "  \"emerging_technologies\": [\n",
            "    \"The provided text does not offer specific details on emerging technologies within the Indian automotive industry beyond the general implication of technological advancements as a barrier to entry.  Further research is needed to identify specific key technologies shaping the industry.\"\n",
            "  ],\n",
            "  \"consumer_insights\": {\n",
            "    \"target_audience\": \"The target audience is expanding beyond the elite to include a growing middle class, particularly in urban areas.  The increasing ownership rate (60% of households) indicates a broad appeal, though per capita ownership remains low, suggesting significant growth potential.\",\n",
            "    \"buying_trends\": \"The text suggests a shift from luxury goods to more accessible vehicles, driven by increased affordability and a growing middle class.  The demand for two-wheelers and commercial vehicles has historically been strong, indicating a diverse market.\"\n",
            "  },\n",
            "  \"risk_analysis\": {\n",
            "    \"economic_risks\": \"Economic downturns can significantly impact consumer spending on automobiles, leading to reduced sales and potentially impacting the industry's growth trajectory.\",\n",
            "    \"technological_risks\": \"Rapid technological advancements, such as the shift towards electric vehicles, require significant adaptation and investment, posing challenges for companies unable to keep pace.\",\n",
            "    \"geopolitical_risks\": \"Trade restrictions, policy changes, and global instability can disrupt supply chains, impact import/export activities, and affect the overall stability of the industry.\"\n",
            "  },\n",
            "  \"high_growth_areas\": \"The two-wheeler segment and commercial vehicles have historically shown strong growth.  The increasing middle class and rising affordability suggest significant growth potential in the passenger car segment, particularly in more affordable vehicle categories.\",\n",
            "  \"wikipedia_sources\": [\n",
            "    \"https://en.wikipedia.org/wiki/Automotive_industry_in_India\"\n",
            "  ]\n",
            "}\n",
            "```\n"
          ]
        }
      ]
    },
    {
      "cell_type": "code",
      "source": [
        "generate_industry_report(\"Hollywood\")"
      ],
      "metadata": {
        "colab": {
          "base_uri": "https://localhost:8080/"
        },
        "id": "WpVIYtgWGjMs",
        "outputId": "efa7dcfe-46db-43f4-e0b2-d84e423c00d6"
      },
      "execution_count": null,
      "outputs": [
        {
          "output_type": "stream",
          "name": "stdout",
          "text": [
            "```json\n",
            "{\n",
            "  \"industry\": \"Hollywood Film Industry\",\n",
            "  \"industry_overview\": \"The Hollywood film industry, centered in Los Angeles, California, has been a major global force since the early 20th century.  Initially developing on the East Coast, the industry migrated westward due to favorable weather and lower production costs.  Hollywood's influence is seen in its development of classical filmmaking styles and its global reach, with films often released in multiple languages. While the US is the fourth largest film producer (behind India, Japan, and China), Hollywood's impact far surpasses its production volume, shaping global cinematic trends and influencing filmmaking worldwide. The industry's success is tied to its innovative spirit, technological advancements, and the creation of iconic films and genres.\",\n",
            "  \"competitive_landscape\": {\n",
            "    \"competition_intensity\": \"High. The industry is dominated by a few major studios, creating intense competition for market share, talent, and distribution deals.  Smaller independent studios and filmmakers face significant challenges in competing with these established giants.\",\n",
            "    \"key_players\": [\n",
            "      \"Universal Pictures: A major studio with a long history, producing a wide range of films, from blockbusters to independent features. Their influence extends to television and theme parks.\",\n",
            "      \"Paramount Pictures: Another major studio with a vast library of films and a significant presence in global distribution.  They are known for their diverse range of productions.\",\n",
            "      \"Warner Bros.: A leading studio with a rich history and a diverse portfolio of films, television shows, and animation. They have a strong global presence and distribution network.\",\n",
            "      \"Walt Disney Studios: A dominant force in animation and family entertainment, with a global reach through theme parks, merchandise, and streaming services.  They own Pixar and Marvel Studios.\",\n",
            "      \"Sony Pictures: A major studio with a diverse range of film and television productions. They also have a significant presence in gaming and electronics.\"\n",
            "    ],\n",
            "    \"barriers_to_entry\": [\n",
            "      \"High capital investment: Establishing a studio requires substantial financial resources for production, marketing, and distribution.\",\n",
            "      \"Distribution challenges: Securing theatrical release and distribution deals is difficult for new entrants, as major studios control a significant portion of the market.\",\n",
            "      \"Talent acquisition: Attracting and retaining skilled actors, directors, and other creative professionals is highly competitive.\",\n",
            "      \"Marketing and promotion: Effectively marketing films to a global audience requires significant resources and expertise.\",\n",
            "      \"Technological advancements: Keeping up with technological changes in filmmaking and distribution requires continuous investment.\"\n",
            "    ]\n",
            "  },\n",
            "  \"emerging_technologies\": [\n",
            "    \"Digital filmmaking: The shift to digital technologies has lowered production costs and increased accessibility for independent filmmakers.  Digital distribution platforms have also expanded reach.\",\n",
            "    \"Streaming services: Platforms like Netflix and others have significantly altered film distribution, offering direct-to-consumer access and impacting theatrical releases.\",\n",
            "    \"Special effects: Advancements in CGI and visual effects continue to push the boundaries of filmmaking, creating immersive and visually stunning experiences.\",\n",
            "    \"Virtual and augmented reality:  These technologies hold potential for new forms of cinematic storytelling and immersive viewing experiences.\",\n",
            "    \"Artificial intelligence: AI is being used in various aspects of filmmaking, from scriptwriting and editing to visual effects and marketing.\"\n",
            "  ],\n",
            "  \"consumer_insights\": {\n",
            "    \"target_audience\": \"The Hollywood film industry targets a broad demographic, including families, young adults, and older audiences, with films catering to diverse tastes and preferences.  Global reach means diverse cultural considerations are increasingly important.\",\n",
            "    \"buying_trends\": \"Consumer behavior is influenced by streaming services, social media trends, and critical reviews.  Box office success is still significant, but streaming viewership is a crucial factor in a film's overall success.  Franchise films and sequels continue to be popular.\"\n",
            "  },\n",
            "  \"risk_analysis\": {\n",
            "    \"economic_risks\": \"Economic downturns can significantly impact consumer spending on entertainment, reducing box office revenue and impacting production budgets.\",\n",
            "    \"technological_risks\": \"Rapid technological changes can render existing technologies obsolete, requiring studios to invest heavily in new equipment and infrastructure.\",\n",
            "    \"geopolitical_risks\": \"International trade restrictions, political instability, and global events can disrupt production, distribution, and marketing efforts.\"\n",
            "  },\n",
            "  \"high_growth_areas\": \"Streaming services are a rapidly growing segment, with increasing demand for original content.  International markets also present significant growth opportunities, as global audiences embrace diverse cinematic experiences.  Technological advancements in visual effects and immersive experiences are also driving growth.\",\n",
            "  \"wikipedia_sources\": [\n",
            "    \"https://en.wikipedia.org/wiki/Cinema_of_the_United_States\"\n",
            "  ]\n",
            "}\n",
            "```\n"
          ]
        }
      ]
    },
    {
      "cell_type": "code",
      "source": [
        "generate_industry_report(\"Pharmaceutical Industry\")"
      ],
      "metadata": {
        "colab": {
          "base_uri": "https://localhost:8080/"
        },
        "id": "0EEt2BWWGn85",
        "outputId": "63ab6db1-262c-470f-d399-139a7dc9da38"
      },
      "execution_count": null,
      "outputs": [
        {
          "output_type": "stream",
          "name": "stdout",
          "text": [
            "```json\n",
            "{\n",
            "  \"industry\": \"Pharmaceutical Industry\",\n",
            "  \"industry_overview\": \"The pharmaceutical industry encompasses the discovery, development, production, and marketing of medications and medical devices to treat, prevent, or alleviate symptoms of diseases and injuries.  This industry includes companies dealing in both generic and branded drugs, with the latter protected by chemical patents.  Subdivisions exist, such as biologics manufacturing and total synthesis.  Stringent regulations govern patenting, testing, safety, and marketing. In 2020, the global market generated $1,228.45 billion in treatments, showing a 1.8% CAGR in 2021, despite the COVID-19 pandemic.  Its origins trace back to the mid-to-late 1800s in developed nations like Germany, Switzerland, and the U.S., evolving from local apothecaries to large-scale manufacturers.\",\n",
            "  \"competitive_landscape\": {\n",
            "    \"competition_intensity\": \"High. The industry is characterized by intense competition due to the high barriers to entry, significant research and development costs, and the presence of established multinational corporations.\",\n",
            "    \"key_players\": [\n",
            "      \"Bayer: Originating in Germany, Bayer is a multinational pharmaceutical and life science company with a long history.  Its early work in synthetic organic chemistry and collaborations with academic labs laid the foundation for its current success in various pharmaceutical areas.\",\n",
            "      \"Pfizer:  A U.S.-based multinational pharmaceutical corporation, Pfizer has a long history dating back to the mid-1800s as a local apothecary.  Its contributions to drug discovery and development, including insulin purification, have significantly impacted the industry.\",\n",
            "      \"Merck:  Another multinational pharmaceutical company with roots in the mid-1800s, Merck has been a major player in drug discovery and development. Its contributions span various therapeutic areas, reflecting its long-standing presence in the industry.\",\n",
            "      \"Eli Lilly and Company:  Founded in the mid-1800s, Eli Lilly and Company is a major player in the pharmaceutical industry, known for its contributions to insulin production and other significant advancements in medicine.\"\n",
            "    ],\n",
            "    \"barriers_to_entry\": [\n",
            "      \"High Research and Development Costs:  The extensive and costly research required to discover, develop, and test new drugs presents a significant hurdle for new entrants.\",\n",
            "      \"Stringent Regulatory Approvals:  Navigating complex and lengthy regulatory processes for drug approvals poses a major challenge.\",\n",
            "      \"Intellectual Property Protection:  Existing patents on successful drugs create significant barriers for competitors.\",\n",
            "      \"Extensive Manufacturing Capabilities:  Establishing large-scale manufacturing facilities with the required quality control measures is a substantial investment.\",\n",
            "      \"Marketing and Distribution Networks:  Building effective marketing and distribution networks to reach healthcare providers and patients is a complex and costly undertaking.\"\n",
            "    ]\n",
            "  },\n",
            "  \"emerging_technologies\": [\n",
            "    \"Biologics Manufacturing: Advances in biotechnology have led to the development of novel therapeutic proteins and other biologics, requiring specialized manufacturing processes and expertise.\",\n",
            "    \"Drug Delivery Systems:  Innovations in drug delivery, such as targeted drug delivery and controlled-release formulations, are improving treatment efficacy and patient compliance.\",\n",
            "    \"Artificial Intelligence (AI) in Drug Discovery: AI and machine learning are accelerating drug discovery and development by analyzing vast datasets and identifying promising drug candidates.\",\n",
            "    \"Personalized Medicine:  Tailoring treatments to individual patients based on their genetic makeup and other factors is transforming healthcare and drug development.\",\n",
            "    \"Big Data Analytics:  The use of big data analytics helps in identifying trends, predicting market demands, and improving the efficiency of clinical trials.\"\n",
            "  ],\n",
            "  \"consumer_insights\": {\n",
            "    \"target_audience\": \"The target audience is broad, encompassing patients with various diseases and conditions, healthcare providers (doctors, nurses, pharmacists), and insurance companies.  Demographics vary widely depending on the specific drug or medical device.\",\n",
            "    \"buying_trends\": \"Consumer behavior is influenced by factors such as disease prevalence, efficacy of treatments, cost of medications, insurance coverage, and physician recommendations.  The increasing demand for personalized medicine and convenient drug delivery systems is also shaping the market.\"\n",
            "  },\n",
            "  \"risk_analysis\": {\n",
            "    \"economic_risks\": \"Economic downturns can reduce healthcare spending, impacting drug sales and investment in research and development.  Changes in insurance coverage and pricing regulations can also significantly affect profitability.\",\n",
            "    \"technological_risks\": \"Rapid technological advancements can render existing drugs or technologies obsolete, requiring companies to constantly innovate and adapt.  The high cost of adopting new technologies can also pose a challenge.\",\n",
            "    \"geopolitical_risks\": \"Trade restrictions, policy changes, and global instability can disrupt supply chains, impact access to raw materials, and affect market access in different regions.\"\n",
            "  },\n",
            "  \"high_growth_areas\": \"Segments such as biologics, personalized medicine, and advanced drug delivery systems are expected to experience rapid growth due to increasing demand and technological advancements.  The development of treatments for chronic diseases and emerging infectious diseases also presents significant growth opportunities.\",\n",
            "  \"wikipedia_sources\": [\n",
            "    \"https://en.wikipedia.org/wiki/Pharmaceutical_industry\"\n",
            "  ]\n",
            "}\n",
            "```\n"
          ]
        }
      ]
    },
    {
      "cell_type": "code",
      "source": [
        "generate_industry_report(\"Chocolate\")"
      ],
      "metadata": {
        "colab": {
          "base_uri": "https://localhost:8080/"
        },
        "id": "TObUtrCXGuqL",
        "outputId": "be279c26-8b41-49e3-b439-bb572de20e32"
      },
      "execution_count": null,
      "outputs": [
        {
          "output_type": "stream",
          "name": "stdout",
          "text": [
            "```json\n",
            "{\n",
            "  \"industry\": \"Chocolate Industry\",\n",
            "  \"industry_overview\": \"The chocolate industry encompasses the production and distribution of chocolate products, derived from roasted and ground cocoa beans.  With a history spanning millennia, starting with the Mayo-Chinchipe culture in Ecuador, chocolate evolved from bitter beverages in Mesoamerica to the diverse range of sweet treats and products consumed globally today.  The industry involves complex processes from bean fermentation and roasting to the creation of various chocolate types, including dark, milk, and white chocolate, along with numerous confectionery items.  Significant production centers shifted from the Americas to West African countries like Ivory Coast and Ghana, which now account for a substantial portion of global cocoa supply.  However, ethical concerns regarding child labor persist within the industry.\",\n",
            "  \"competitive_landscape\": {\n",
            "    \"competition_intensity\": \"High. The chocolate market is highly competitive, with large multinational corporations dominating global production and distribution, alongside numerous smaller regional players and artisan chocolatiers.\",\n",
            "    \"key_players\": [\n",
            "      \"Cadbury: A major player with a long history, known for its milk chocolate and various confectionery products.  Their influence spans global markets and they have faced past controversies regarding labor practices in their supply chains.\",\n",
            "      \"Fry's: Another significant British chocolate producer with a historical presence in the industry.  Their contributions to chocolate production and distribution have been substantial, though they have also faced scrutiny regarding ethical sourcing.\",\n",
            "      \"Mars, Incorporated: A large multinational corporation with a diverse portfolio of chocolate brands and products.  Their involvement in research and development, including genomic sequencing of the cacao tree, demonstrates their significant influence on the industry.\",\n",
            "      \"Other smaller regional players and artisan chocolatiers also contribute to the market, offering specialized products and unique experiences.\"\n",
            "    ],\n",
            "    \"barriers_to_entry\": [\n",
            "      \"High capital investment: Establishing chocolate production requires significant upfront investment in processing equipment, facilities, and supply chains.\",\n",
            "      \"Complex production process: Chocolate making involves intricate steps from bean fermentation to final product creation, demanding specialized knowledge and expertise.\",\n",
            "      \"Ethical sourcing challenges: Ensuring sustainable and ethical cocoa sourcing is crucial, presenting a significant hurdle for new entrants.\",\n",
            "      \"Established brand recognition:  Competing with well-established brands requires substantial marketing and branding efforts.\",\n",
            "      \"Global distribution networks: Accessing global distribution channels and establishing effective logistics is a major challenge.\"\n",
            "    ]\n",
            "  },\n",
            "  \"emerging_technologies\": [\n",
            "    \"Genomic sequencing of the cacao tree:  This technology allows for improvements in cacao yields and disease resistance, potentially enhancing sustainability and production efficiency.\",\n",
            "    \"Improved processing techniques: Advancements in processing methods continue to refine chocolate quality, texture, and flavor profiles.\",\n",
            "    \"Sustainable farming practices:  Technological innovations are being explored to improve cocoa farming practices, addressing concerns about deforestation and child labor.\",\n",
            "    \"Precision fermentation and alternative protein sources:  These technologies offer potential for creating sustainable and ethical alternatives to traditional cocoa production.\",\n",
            "    \"Packaging innovations:  New packaging materials and technologies aim to enhance product shelf life, reduce waste, and improve sustainability.\"\n",
            "  ],\n",
            "  \"consumer_insights\": {\n",
            "    \"target_audience\": \"Chocolate appeals to a broad demographic, from children to adults.  However, specific preferences vary by age, culture, and socioeconomic factors.  Dark chocolate has gained popularity among health-conscious consumers, while milk chocolate remains a favorite among children and many adults.\",\n",
            "    \"buying_trends\": \"Consumer demand drives innovation, with growing interest in ethically sourced, sustainable chocolate.  Premium and artisanal chocolate segments are experiencing growth, reflecting a willingness to pay more for quality and unique flavors.  Health consciousness influences choices, with increased demand for dark chocolate and reduced-sugar options.\"\n",
            "  },\n",
            "  \"risk_analysis\": {\n",
            "    \"economic_risks\": \"Economic downturns can reduce consumer spending on non-essential items like chocolate, impacting sales and profitability.  Fluctuations in cocoa prices also pose a significant risk to producers.\",\n",
            "    \"technological_risks\": \"Rapid technological advancements necessitate continuous investment in research and development to maintain competitiveness.  Failure to adapt to new technologies could lead to obsolescence.\",\n",
            "    \"geopolitical_risks\": \"Trade restrictions, political instability in cocoa-producing regions, and global conflicts can disrupt supply chains and impact cocoa availability and pricing.\"\n",
            "  },\n",
            "  \"high_growth_areas\": \"The premium and artisanal chocolate segments are experiencing rapid growth, driven by consumer demand for high-quality, ethically sourced products.  Innovation in flavors, ingredients, and product formats also contributes to this expansion.  Health-conscious options like dark chocolate with higher cocoa percentages and reduced-sugar varieties are also experiencing strong growth.\",\n",
            "  \"wikipedia_sources\": [\n",
            "    \"https://en.wikipedia.org/wiki/Chocolate\"\n",
            "  ]\n",
            "}\n",
            "```\n"
          ]
        }
      ]
    },
    {
      "cell_type": "markdown",
      "source": [
        "#### Question 9 Reports"
      ],
      "metadata": {
        "id": "JJAa1ZX63U6u"
      }
    },
    {
      "cell_type": "code",
      "source": [
        "generate_industry_report(\"Aluminium\")"
      ],
      "metadata": {
        "id": "elPdf_m487IK",
        "colab": {
          "base_uri": "https://localhost:8080/"
        },
        "outputId": "1142ca4e-1896-420b-b1ba-be5572497880"
      },
      "execution_count": null,
      "outputs": [
        {
          "output_type": "stream",
          "name": "stdout",
          "text": [
            "```json\n",
            "{\n",
            "  \"industry\": \"Aluminium Industry\",\n",
            "  \"industry_overview\": \"The aluminium industry encompasses the mining of bauxite, its processing into alumina, and the subsequent smelting of alumina into aluminium metal.  The industry's development was significantly accelerated by the Hall-H\\u00e9roult process in 1886, enabling mass production and widespread use.  Aluminium's unique properties\\u2014lightweight yet strong, excellent conductor of heat and electricity, and corrosion-resistant due to its oxide layer\\u2014make it crucial in transportation, engineering, construction, and packaging.  Its abundance in the Earth's crust, though primarily in compounds, makes it a readily available resource.  The industry's growth is tied to global economic activity and technological advancements.\",\n",
            "  \"competitive_landscape\": {\n",
            "    \"competition_intensity\": \"Medium.  While the raw material base is relatively abundant, the energy-intensive nature of smelting and the need for specialized technology create some barriers to entry, leading to a moderately concentrated market.\",\n",
            "    \"key_players\": [\n",
            "      \"Insufficient data available.\"\n",
            "    ],\n",
            "    \"barriers_to_entry\": [\n",
            "      \"High capital expenditure for smelting plants and alumina refineries:  Establishing the necessary infrastructure requires substantial investment.\",\n",
            "      \"Energy-intensive production process:  Aluminium smelting is highly energy-dependent, making electricity costs a major factor in profitability.\",\n",
            "      \"Technological expertise and specialized knowledge:  Efficient and safe operation requires advanced technology and skilled personnel.\",\n",
            "      \"Environmental regulations and sustainability concerns:  Meeting stringent environmental standards adds to production costs and complexity.\",\n",
            "      \"Access to bauxite reserves: Securing a reliable supply of high-quality bauxite is crucial for consistent production.\"\n",
            "    ]\n",
            "  },\n",
            "  \"emerging_technologies\": [\n",
            "    \"Improved smelting technologies are constantly being developed to increase efficiency and reduce energy consumption.  Advances in recycling techniques are also crucial for sustainability.  New alloy compositions are continually being researched to enhance specific properties like strength, lightweightness, and corrosion resistance for specialized applications.  The exploration of new applications for aluminium, such as in advanced materials and energy storage, is driving innovation.  Research into sustainable and efficient alumina production methods is also an important area of focus.\"\n",
            "  ],\n",
            "  \"consumer_insights\": {\n",
            "    \"target_audience\": \"The primary consumers of aluminium are diverse, ranging from manufacturers in the automotive, aerospace, construction, and packaging industries to consumers purchasing products made from aluminium.  The demand is influenced by factors such as economic growth, infrastructure development, and consumer preferences.\",\n",
            "    \"buying_trends\": \"Consumer demand is driven by the need for lightweight, durable, and recyclable materials.  Sustainability concerns are increasingly influencing purchasing decisions, favoring products with recycled aluminium content.  Technological advancements leading to new applications and improved product performance also shape consumer preferences.\"\n",
            "  },\n",
            "  \"risk_analysis\": {\n",
            "    \"economic_risks\": \"Economic downturns significantly impact aluminium demand, particularly in sectors like construction and automotive manufacturing, leading to price fluctuations and reduced profitability.\",\n",
            "    \"technological_risks\": \"Rapid advancements in materials science could lead to the development of alternative materials that compete with aluminium, potentially reducing its market share.\",\n",
            "    \"geopolitical_risks\": \"Trade restrictions, political instability, and disruptions to supply chains can affect the availability and price of bauxite and aluminium, impacting the industry's stability.\"\n",
            "  },\n",
            "  \"high_growth_areas\": \"The automotive industry's increasing use of aluminium for lightweight vehicles is a key growth area.  Demand for aluminium in renewable energy technologies, such as solar panels and wind turbines, is also expected to rise.  The construction sector's adoption of aluminium in building materials and infrastructure projects contributes to growth.  Packaging applications continue to be a significant market, with a focus on sustainable and recyclable options.\",\n",
            "  \"wikipedia_sources\": [\n",
            "    \"https://en.wikipedia.org/wiki/Aluminium\"\n",
            "  ]\n",
            "}\n",
            "```\n"
          ]
        }
      ]
    },
    {
      "cell_type": "code",
      "source": [
        "generate_industry_report(\"Advertising\")"
      ],
      "metadata": {
        "colab": {
          "base_uri": "https://localhost:8080/"
        },
        "id": "RlsJMUGNo84_",
        "outputId": "25d4ec82-a0c1-433e-fbe4-8ed8e21b68b5"
      },
      "execution_count": null,
      "outputs": [
        {
          "output_type": "stream",
          "name": "stdout",
          "text": [
            "```json\n",
            "{\n",
            "  \"industry\": \"Advertising Industry\",\n",
            "  \"industry_overview\": \"The advertising industry is a global, multibillion-dollar business encompassing public relations, marketing companies, media services, and advertising agencies.  It acts as a crucial link between manufacturers and consumers, serving clients ranging from non-profit organizations to Fortune 500 companies.  The industry's scale is substantial; in the US alone, over 65,000 agencies employed nearly 250,000 people, generating $166.8 billion in revenue by 2014. Global advertising sales reached $493 billion in 2016, with digital ad sales surpassing TV advertising in 2017, highlighting the industry's dynamic and ever-evolving nature.\",\n",
            "  \"competitive_landscape\": {\n",
            "    \"competition_intensity\": \"High. The industry is characterized by intense competition among large multinational agencies and smaller specialized firms, leading to constant innovation and price pressures.\",\n",
            "    \"key_players\": [\n",
            "      \"WPP plc: A global advertising and communications services group, offering a wide range of services including advertising, public relations, and media buying.  Their extensive global reach and diverse service portfolio contribute to their market dominance.\",\n",
            "      \"Omnicom: Another major player, Omnicom provides advertising, marketing, and corporate communications services worldwide.  Their size and breadth of services allow them to compete effectively on a global scale.\",\n",
            "      \"Publicis Groupe: A global communications group offering a comprehensive suite of services, including advertising, public relations, and media buying.  Their integrated approach and global presence make them a significant competitor.\",\n",
            "      \"Interpublic: A global marketing and communications company offering a diverse range of services.  Their focus on integrated marketing solutions and global reach positions them as a key player in the industry.\",\n",
            "      \"Dentsu: A Japanese advertising and public relations company with a significant global presence.  Their expertise in the Asian market and growing international reach make them a prominent competitor.\"\n",
            "    ],\n",
            "    \"barriers_to_entry\": [\n",
            "      \"High capital requirements: Starting an advertising agency requires significant upfront investment in infrastructure, technology, and talent acquisition.\",\n",
            "      \"Establishing client relationships: Building trust and securing contracts with major clients takes time, effort, and a proven track record.\",\n",
            "      \"Competition from established players:  The industry is dominated by large, well-established agencies, making it challenging for newcomers to gain market share.\",\n",
            "      \"Specialized skills and expertise:  Success requires a diverse team with specialized skills in creative development, media buying, and strategic planning.\",\n",
            "      \"Technological advancements:  Keeping up with the rapid pace of technological change and adopting new marketing technologies is crucial for survival.\"\n",
            "    ]\n",
            "  },\n",
            "  \"emerging_technologies\": [\n",
            "    \"Digital advertising: The rise of online advertising, including search engine marketing, social media marketing, and programmatic advertising, is transforming the industry.  This shift necessitates new skills and strategies for agencies.\",\n",
            "    \"Data analytics:  The increasing availability of data allows for more targeted and effective advertising campaigns.  Agencies are leveraging data analytics to optimize campaigns and measure their effectiveness.\",\n",
            "    \"Artificial intelligence (AI): AI is being used to automate tasks, personalize advertising, and improve campaign performance.  This technology is changing how agencies plan and execute campaigns.\",\n",
            "    \"Programmatic advertising:  This automated buying and selling of advertising space allows for greater efficiency and targeting.  Agencies are adopting programmatic techniques to optimize their media buying strategies.\",\n",
            "    \"Virtual and augmented reality (VR/AR):  These technologies offer new opportunities for immersive advertising experiences.  Agencies are exploring creative ways to integrate VR/AR into their campaigns.\"\n",
            "  ],\n",
            "  \"consumer_insights\": {\n",
            "    \"target_audience\": \"The target audience is extremely broad, encompassing virtually all demographics.  Advertising campaigns are tailored to specific segments based on factors like age, gender, income, location, interests, and lifestyle.  The industry utilizes sophisticated targeting techniques to reach specific consumer groups.\",\n",
            "    \"buying_trends\": \"Consumer buying trends are heavily influenced by digital platforms, social media, and personalized experiences.  Consumers are increasingly demanding transparency and authenticity in advertising.  The shift towards digital channels and personalized marketing is reshaping consumer behavior and influencing advertising strategies.\"\n",
            "  },\n",
            "  \"risk_analysis\": {\n",
            "    \"economic_risks\": \"Economic downturns significantly impact advertising spending as businesses reduce marketing budgets to conserve resources. This leads to reduced revenue and potential job losses within the industry.\",\n",
            "    \"technological_risks\": \"Rapid technological advancements create challenges for agencies to adapt and keep up with the latest tools and techniques.  Failure to adapt can lead to obsolescence and loss of competitiveness.\",\n",
            "    \"geopolitical_risks\": \"Trade restrictions, policy changes, and global instability can disrupt international advertising campaigns and impact the global reach of agencies.  Political uncertainty can create unpredictable market conditions.\"\n",
            "  },\n",
            "  \"high_growth_areas\": \"Digital advertising, particularly programmatic advertising and social media marketing, are experiencing rapid growth.  The increasing use of data analytics and AI in advertising is also driving expansion.  Furthermore, the development and adoption of new technologies like VR/AR are creating new opportunities for growth.\",\n",
            "  \"wikipedia_sources\": [\n",
            "    \"https://en.wikipedia.org/wiki/Advertising_industry\"\n",
            "  ]\n",
            "}\n",
            "```\n"
          ]
        }
      ]
    },
    {
      "cell_type": "code",
      "source": [
        "generate_industry_report(\"Internet Services & Infrastructure\")"
      ],
      "metadata": {
        "colab": {
          "base_uri": "https://localhost:8080/"
        },
        "id": "x5PCp2_1pCuC",
        "outputId": "877baa62-0f4d-47de-d0a6-23a0fe4ac6a3"
      },
      "execution_count": null,
      "outputs": [
        {
          "output_type": "stream",
          "name": "stdout",
          "text": [
            "```json\n",
            "{\n",
            "  \"industry\": \"Internet Services & Infrastructure (IaaS)\",\n",
            "  \"industry_overview\": \"The Internet Services & Infrastructure industry, specifically Infrastructure as a Service (IaaS), provides computing resources like storage, networks, servers, and virtualization to users via cloud services.  Users manage their operating systems and applications but not the underlying infrastructure. IaaS offers scalability on demand and is available in public, private, or hybrid cloud models.  The industry is characterized by high-level APIs for managing resources and is considered the most basic cloud service model by the Internet Engineering Task Force (IETF).  The global market is experiencing significant growth, driven by increased adoption across various sectors.\",\n",
            "  \"competitive_landscape\": {\n",
            "    \"competition_intensity\": \"High. The IaaS market is characterized by intense competition among major cloud providers, each striving for market share and offering similar services.  This leads to price wars and continuous innovation.\",\n",
            "    \"key_players\": [\n",
            "      \"Insufficient data available.\"\n",
            "    ],\n",
            "    \"barriers_to_entry\": [\n",
            "      \"High capital expenditure: Establishing the necessary data centers and infrastructure requires substantial upfront investment.\",\n",
            "      \"Technical expertise:  Building and maintaining a reliable and scalable IaaS platform demands significant technical expertise and skilled personnel.\",\n",
            "      \"Competitive pressure:  Existing players have established brand recognition, customer bases, and economies of scale, making it difficult for new entrants to compete.\",\n",
            "      \"Regulatory compliance:  Meeting various data privacy and security regulations across different jurisdictions poses a significant challenge.\",\n",
            "      \"Network infrastructure:  Building and maintaining a robust and extensive network infrastructure is crucial for providing reliable IaaS services, requiring significant investment.\"\n",
            "    ]\n",
            "  },\n",
            "  \"emerging_technologies\": [\n",
            "    \"Cloud orchestration technologies like OpenStack, Apache CloudStack, and OpenNebula are crucial for managing the creation and allocation of virtual machines (VMs) across hypervisors.  Hypervisors such as Xen, Oracle VirtualBox, VMware ESX/ESXi, and Microsoft Hyper-V manage VMs.  An alternative to hypervisors is Linux containers, offering higher performance due to the absence of hypervisor overhead.\"\n",
            "  ],\n",
            "  \"consumer_insights\": {\n",
            "    \"target_audience\": \"The target audience spans various sectors, including Banking, Financial Services, and Insurance (BFSI), as well as other businesses and organizations seeking scalable and cost-effective computing resources.  Government entities are also increasingly adopting IaaS solutions.\",\n",
            "    \"buying_trends\": \"The primary buying trends are driven by the need for scalability, cost optimization, and enhanced operational efficiency.  Businesses are increasingly moving towards cloud-based infrastructure to reduce capital expenditure and improve agility.\"\n",
            "  },\n",
            "  \"risk_analysis\": {\n",
            "    \"economic_risks\": \"Economic downturns can lead to reduced IT spending, impacting demand for IaaS services.  Companies might postpone cloud migrations or reduce their cloud usage during economic uncertainty.\",\n",
            "    \"technological_risks\": \"Rapid technological advancements necessitate continuous investment in infrastructure upgrades and the development of new services to remain competitive.  Security breaches and data loss are also significant technological risks.\",\n",
            "    \"geopolitical_risks\": \"Trade restrictions, policy changes, or global instability can disrupt supply chains, impact data center operations, and affect the availability of resources.\"\n",
            "  },\n",
            "  \"high_growth_areas\": \"The Banking, Financial Services, and Insurance (BFSI) sector is a key driver of IaaS growth, as these organizations utilize cloud technologies to enhance scalability and reduce operational costs.  Government adoption of public cloud solutions is also contributing to market expansion.\",\n",
            "  \"wikipedia_sources\": [\n",
            "    \"https://en.wikipedia.org/wiki/Infrastructure_as_a_service\"\n",
            "  ]\n",
            "}\n",
            "```\n"
          ]
        }
      ]
    },
    {
      "cell_type": "code",
      "source": [
        "generate_industry_report(\"Automobile Manufacturers\")"
      ],
      "metadata": {
        "colab": {
          "base_uri": "https://localhost:8080/"
        },
        "id": "3V0rgal0pfHY",
        "outputId": "b322e732-aee8-43e9-8813-384a99d84a90"
      },
      "execution_count": null,
      "outputs": [
        {
          "output_type": "stream",
          "name": "stdout",
          "text": [
            "```json\n",
            "{\n",
            "  \"industry\": \"Automobile Manufacturers Industry (China)\",\n",
            "  \"industry_overview\": \"China boasts the world's largest automotive industry, encompassing hundreds of manufacturers.  These include state-owned enterprises (SOEs), privately owned companies, foreign manufacturers, and joint ventures.  The industry's structure is complex, with varying levels of government control and a wide range of brands and models.  The market is characterized by intense competition, rapid technological advancements, and significant government influence.  The industry's size and complexity make it a dynamic and challenging sector to analyze.\",\n",
            "  \"competitive_landscape\": {\n",
            "    \"competition_intensity\": \"High. The presence of numerous state-owned and privately owned manufacturers, along with foreign players and joint ventures, creates a highly competitive market environment.\",\n",
            "    \"key_players\": [\n",
            "      \"SAIC Motor: A major state-owned manufacturer with diverse brands like Roewe and MG Motor, showcasing a wide range of vehicles and a strong market presence.\",\n",
            "      \"FAW Group: Another significant state-owned enterprise, FAW Group, features brands like Hongqi and Bestune, demonstrating a focus on both mass-market and luxury vehicles.\",\n",
            "      \"BYD Auto: A prominent privately owned manufacturer, BYD Auto, has gained significant traction with its electric and hybrid vehicles, challenging established players.\",\n",
            "      \"Geely Holding Group: A leading privately owned company, Geely Holding Group, owns several brands including Geely Auto and Volvo Cars, highlighting its global reach and diversified portfolio.\",\n",
            "      \"Great Wall Motor: A successful privately owned manufacturer, Great Wall Motor, offers a variety of vehicles under brands like Haval and Ora, focusing on different market segments.\"\n",
            "    ],\n",
            "    \"barriers_to_entry\": [\n",
            "      \"High capital investment: Establishing an automobile manufacturing facility requires substantial upfront investment in infrastructure, equipment, and technology.\",\n",
            "      \"Stringent regulations: The automotive industry is heavily regulated, requiring compliance with numerous safety, emission, and quality standards.\",\n",
            "      \"Established supply chains: Accessing reliable and cost-effective suppliers is crucial, and established players often have strong relationships with suppliers.\",\n",
            "      \"Brand recognition and consumer trust: Building brand recognition and consumer trust takes time and significant marketing investment.\",\n",
            "      \"Government approvals and licenses: Obtaining necessary government approvals and licenses can be a complex and time-consuming process.\"\n",
            "    ]\n",
            "  },\n",
            "  \"emerging_technologies\": [\n",
            "    \"Electric Vehicles (EVs):  The rapid growth of EVs is transforming the industry, with many manufacturers investing heavily in electric vehicle technology and infrastructure.\",\n",
            "    \"Autonomous Driving:  Self-driving technology is advancing rapidly, promising to revolutionize the driving experience and create new opportunities for automakers.\",\n",
            "    \"Connected Car Technology:  Connected car technology is enhancing the in-car experience through features like infotainment systems, navigation, and remote diagnostics.\",\n",
            "    \"Shared Mobility Services:  Ride-sharing and car-sharing services are changing consumer behavior, impacting the traditional car ownership model.\",\n",
            "    \"Advanced Materials:  The use of lightweight and high-strength materials is improving fuel efficiency and vehicle safety.\"\n",
            "  ],\n",
            "  \"consumer_insights\": {\n",
            "    \"target_audience\": \"The target audience is diverse, ranging from budget-conscious consumers to those seeking luxury vehicles.  Demographics vary across segments, with factors like age, income, and lifestyle influencing purchasing decisions.  The market includes both individual buyers and fleet operators.\",\n",
            "    \"buying_trends\": \"Consumers are increasingly prioritizing fuel efficiency, safety features, technological advancements, and brand reputation.  The rise of EVs and shared mobility services is altering consumer preferences, with a growing focus on sustainability and convenience.\"\n",
            "  },\n",
            "  \"risk_analysis\": {\n",
            "    \"economic_risks\": \"Economic downturns can significantly impact consumer spending on automobiles, leading to decreased demand and potential financial difficulties for manufacturers.\",\n",
            "    \"technological_risks\": \"Rapid technological advancements create challenges for manufacturers, requiring continuous investment in research and development to remain competitive.\",\n",
            "    \"geopolitical_risks\": \"Trade restrictions, policy changes, and global instability can disrupt supply chains, impact production, and affect market access.\"\n",
            "  },\n",
            "  \"high_growth_areas\": \"The electric vehicle segment is experiencing rapid growth, driven by government incentives, environmental concerns, and technological advancements.  The market for connected and autonomous vehicles is also expected to expand significantly in the coming years.\",\n",
            "  \"wikipedia_sources\": [\n",
            "    \"https://en.wikipedia.org/wiki/List_of_automobile_manufacturers_of_China\"\n",
            "  ]\n",
            "}\n",
            "```\n"
          ]
        }
      ]
    },
    {
      "cell_type": "code",
      "source": [
        "generate_industry_report(\"Automobile Manufacturers in South Korea\")"
      ],
      "metadata": {
        "colab": {
          "base_uri": "https://localhost:8080/"
        },
        "id": "SVoIKE-1p0JM",
        "outputId": "4501e81c-887b-4ab3-c05a-e1221e782443"
      },
      "execution_count": null,
      "outputs": [
        {
          "output_type": "stream",
          "name": "stdout",
          "text": [
            "No direct industry page for: Automobile Manufacturers in South Korea. Trying category search...\n",
            "No industry category found. Using filtered Wikipedia search...\n",
            "[WARNING] Skipping irrelevant page: List of automobile manufacturers of South Korea\n",
            "```json\n",
            "{\n",
            "  \"industry\": \"Automobile Manufacturers in South Korea\",\n",
            "  \"industry_overview\": \"South Korea's automotive industry is the fifth largest globally in both production and export volume.  Initially focused on assembling imported parts, it has evolved into a technologically advanced sector.  Annual domestic output surpassed one million units in 1988, and the 1990s saw the development of numerous in-house models, showcasing design, performance, and technological capabilities.  The industry's growth is marked by government support, strategic partnerships, and a focus on export markets, particularly North America.\",\n",
            "  \"competitive_landscape\": {\n",
            "    \"competition_intensity\": \"High. The industry has seen intense competition, both domestically and internationally, leading to mergers, acquisitions, and a constant push for innovation and cost reduction.\",\n",
            "    \"key_players\": [\n",
            "      \"Hyundai Motor Group and its affiliate Kia:  A dominant force in the South Korean market and a major global player, known for its range of vehicles and significant export volumes.  Their acquisition of Kia in 1998 solidified their position.\",\n",
            "      \"GM Korea: A joint venture initially formed with Shinjin Motors, GM Korea has a long history in the South Korean market.  Its presence reflects the importance of international collaborations in the industry.\",\n",
            "      \"Renault Korea Motors: Formed after Renault's acquisition of a stake in Samsung Motors, Renault Korea has established itself as a key player, contributing to the diverse range of vehicles available in the market.\",\n",
            "      \"SsangYong Motor Company: Initially established as Ha Dong-hwan Automobile Industry Co., SsangYong has focused on SUVs and has experienced periods of both success and financial difficulty, including acquisition by Daewoo and later Mahindra & Mahindra.\"\n",
            "    ],\n",
            "    \"barriers_to_entry\": [\n",
            "      \"High capital investment: Establishing automotive manufacturing requires substantial investment in facilities, equipment, and research and development.\",\n",
            "      \"Technological expertise:  The industry demands advanced technological capabilities in design, engineering, and manufacturing processes.\",\n",
            "      \"Government regulations:  Strict regulations and policies related to emissions, safety, and import/export can pose significant challenges for new entrants.\",\n",
            "      \"Established brand loyalty:  Consumers often exhibit strong brand loyalty, making it difficult for new companies to gain market share.\",\n",
            "      \"Intense competition:  The presence of established global and domestic players creates a highly competitive environment.\"\n",
            "    ]\n",
            "  },\n",
            "  \"emerging_technologies\": [\n",
            "    \"Electric vehicles:  The growing global demand for electric vehicles is driving innovation and investment in battery technology and electric powertrain systems.\",\n",
            "    \"Autonomous driving:  The development of self-driving technology is transforming the automotive industry, requiring significant advancements in sensor technology, artificial intelligence, and software development.\",\n",
            "    \"Connected car technologies:  The integration of internet connectivity and infotainment systems is enhancing the driving experience and creating new opportunities for data services and personalized features.\",\n",
            "    \"Lightweight materials:  The use of lightweight materials like aluminum and carbon fiber is improving fuel efficiency and vehicle performance.\",\n",
            "    \"Advanced manufacturing techniques:  The adoption of advanced manufacturing techniques such as 3D printing and robotics is increasing efficiency and reducing production costs.\"\n",
            "  ],\n",
            "  \"consumer_insights\": {\n",
            "    \"target_audience\": \"The South Korean automotive market caters to a diverse range of consumers, including individual buyers, businesses, and government agencies.  The market is influenced by factors such as income levels, lifestyle preferences, and technological advancements.\",\n",
            "    \"buying_trends\": \"Consumers are increasingly focused on fuel efficiency, safety features, technological advancements, and value for money.  The growing popularity of SUVs and crossovers reflects changing lifestyle preferences.  Brand loyalty plays a significant role in purchasing decisions.\"\n",
            "  },\n",
            "  \"risk_analysis\": {\n",
            "    \"economic_risks\": \"Economic downturns can significantly impact consumer spending on automobiles, leading to decreased sales and production.  Global economic instability can also affect the industry's export performance.\",\n",
            "    \"technological_risks\": \"Rapid technological advancements can render existing technologies obsolete, requiring significant investment in research and development to remain competitive.  Failure to adapt to technological changes can lead to market share loss.\",\n",
            "    \"geopolitical_risks\": \"Trade restrictions, policy changes, and global instability can disrupt supply chains, affect export markets, and increase production costs.  Geopolitical tensions can also impact access to essential raw materials.\"\n",
            "  },\n",
            "  \"high_growth_areas\": \"The electric vehicle segment is expected to experience rapid growth, driven by government incentives and increasing consumer demand for environmentally friendly vehicles.  The development of autonomous driving technologies and connected car features is also expected to drive significant growth in the industry.\",\n",
            "  \"wikipedia_sources\": [\n",
            "    \"https://en.wikipedia.org/wiki/Automotive_industry_in_South_Korea\"\n",
            "  ]\n",
            "}\n",
            "```\n"
          ]
        }
      ]
    },
    {
      "cell_type": "code",
      "source": [],
      "metadata": {
        "id": "hBck0YUZp-SP"
      },
      "execution_count": null,
      "outputs": []
    }
  ]
}